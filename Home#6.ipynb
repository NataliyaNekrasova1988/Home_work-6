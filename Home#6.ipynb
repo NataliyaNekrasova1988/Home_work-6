{
 "cells": [
  {
   "cell_type": "markdown",
   "id": "381371dd",
   "metadata": {
    "toc": true
   },
   "source": [
    "<h1>Table of Contents<span class=\"tocSkip\"></span></h1>\n",
    "<div class=\"toc\"><ul class=\"toc-item\"></ul></div>"
   ]
  },
  {
   "cell_type": "code",
   "execution_count": 297,
   "id": "b267207e",
   "metadata": {},
   "outputs": [],
   "source": [
    "import pandas as pd\n",
    "import numpy as np\n",
    "import matplotlib.pyplot as plt\n",
    "import random\n",
    "import scipy.stats as sts\n",
    "%matplotlib inline\n",
    "from itertools import product\n",
    "\n",
    "import warnings\n",
    "warnings.filterwarnings('ignore')"
   ]
  },
  {
   "cell_type": "markdown",
   "id": "9a7598d0",
   "metadata": {},
   "source": [
    "Загрузка DataFrame\n",
    "\n",
    "Задача 1\n",
    "\n",
    "На основании данных портала \"Открытые данные России\" о результатах Химического анализа родника в Нескучном саду https://data.gov.ru/opendata/7708660670-rodnik-neskuchniy-sad средствами библиотеки Pandas сформируйте поле выводов по каждому анализирумомому параметру. Например, по показателю pH получен результат 8.4 единицы pH при нормативе от 6 до 9 единиц pH. Т.о. по данному показателю результат анализа в норме. Для решения задачи необходимо программно \"прочитать и понять\" значение столбца \"Норматив\" и выделенное численное значение сравнить с нормативом согласно логике норматива. Например, 6 >= pH >= 9. В итоговом DataFrame столбец \"Показатель\" сделайте индексным.\n",
    "\n",
    "Загзрузка DataFrame выполняется непосредственно c сайта \"Открытые данные России\" https://data.gov.ru/opendata/7708660670-rodnik-neskuchniy-sad/data-20160608T1215-structure-20160608T1215.csv (см. код ниже)."
   ]
  },
  {
   "cell_type": "code",
   "execution_count": 298,
   "id": "efeebf4f",
   "metadata": {
    "scrolled": false
   },
   "outputs": [],
   "source": [
    "# headers={\n",
    "#     'User-Agent': 'Mozilla/5.0 (X11; Ubuntu; Linux x86_64; rv:52.0) Gecko/20100101 Firefox/52.0',\n",
    "# }\n",
    "# def get_content(url):\n",
    "#     with requests.Session() as req:\n",
    "#         req.headers.update(headers)\n",
    "#         r = req.get(url).content\n",
    "#     return r\n",
    "\n",
    "# url =\"https://data.gov.ru/opendata/7708660670-rodnik-neskuchniy-sad/data-20160608T1215-structure-20160608T1215.csv\"\n",
    "# s = get_content(url)\n",
    "# df=pd.read_csv(io.StringIO(s.decode('UTF8')))\n",
    "\n",
    "\n",
    "### Если не работает загрузка on-line\n",
    "df=pd.read_csv(\"Химический анализ родника в Нескучном саду.csv\", sep=';')\n"
   ]
  },
  {
   "cell_type": "code",
   "execution_count": 300,
   "id": "52b3e4dd",
   "metadata": {
    "scrolled": true
   },
   "outputs": [],
   "source": [
    "df=df.rename(columns={'Результат анализа':'Результат_анализа'})"
   ]
  },
  {
   "cell_type": "markdown",
   "id": "490211ba",
   "metadata": {},
   "source": [
    "Заменим результат анализа цветности на \"0\":"
   ]
  },
  {
   "cell_type": "code",
   "execution_count": 301,
   "id": "14e15278",
   "metadata": {},
   "outputs": [],
   "source": [
    "df['Результат_анализа'][2]=0"
   ]
  },
  {
   "cell_type": "code",
   "execution_count": 302,
   "id": "c5d5b107",
   "metadata": {
    "scrolled": false
   },
   "outputs": [
    {
     "data": {
      "text/html": [
       "<div>\n",
       "<style scoped>\n",
       "    .dataframe tbody tr th:only-of-type {\n",
       "        vertical-align: middle;\n",
       "    }\n",
       "\n",
       "    .dataframe tbody tr th {\n",
       "        vertical-align: top;\n",
       "    }\n",
       "\n",
       "    .dataframe thead th {\n",
       "        text-align: right;\n",
       "    }\n",
       "</style>\n",
       "<table border=\"1\" class=\"dataframe\">\n",
       "  <thead>\n",
       "    <tr style=\"text-align: right;\">\n",
       "      <th></th>\n",
       "      <th>Показатель</th>\n",
       "      <th>Единица измерений</th>\n",
       "      <th>Результат_анализа</th>\n",
       "      <th>Норматив</th>\n",
       "    </tr>\n",
       "  </thead>\n",
       "  <tbody>\n",
       "    <tr>\n",
       "      <th>0</th>\n",
       "      <td>pH</td>\n",
       "      <td>единицы pH</td>\n",
       "      <td>8.4</td>\n",
       "      <td>в пределах 6-9</td>\n",
       "    </tr>\n",
       "    <tr>\n",
       "      <th>1</th>\n",
       "      <td>Запах</td>\n",
       "      <td>баллы</td>\n",
       "      <td>1</td>\n",
       "      <td>не более 2-3</td>\n",
       "    </tr>\n",
       "    <tr>\n",
       "      <th>2</th>\n",
       "      <td>Цветность</td>\n",
       "      <td>градусы</td>\n",
       "      <td>0</td>\n",
       "      <td>не более 30</td>\n",
       "    </tr>\n",
       "    <tr>\n",
       "      <th>3</th>\n",
       "      <td>Жёсткость</td>\n",
       "      <td>мг-эквл/дм3</td>\n",
       "      <td>9.199999999999999</td>\n",
       "      <td>в пределах 7-10</td>\n",
       "    </tr>\n",
       "    <tr>\n",
       "      <th>4</th>\n",
       "      <td>Аммиак и аммоний-ион (по азоту)</td>\n",
       "      <td>мг/дм3</td>\n",
       "      <td>0.42</td>\n",
       "      <td>не более 1,5</td>\n",
       "    </tr>\n",
       "    <tr>\n",
       "      <th>5</th>\n",
       "      <td>Нитриты (по NO2)</td>\n",
       "      <td>мг/дм3</td>\n",
       "      <td>0.017</td>\n",
       "      <td>не более 3,3</td>\n",
       "    </tr>\n",
       "    <tr>\n",
       "      <th>6</th>\n",
       "      <td>Нитраты (по NO3)</td>\n",
       "      <td>мг/дм3</td>\n",
       "      <td>24</td>\n",
       "      <td>не более 45</td>\n",
       "    </tr>\n",
       "    <tr>\n",
       "      <th>7</th>\n",
       "      <td>Фосфаты (P)</td>\n",
       "      <td>мг/дм3</td>\n",
       "      <td>0.36</td>\n",
       "      <td>не более 3,5</td>\n",
       "    </tr>\n",
       "    <tr>\n",
       "      <th>8</th>\n",
       "      <td>Хлориды (Cl)</td>\n",
       "      <td>мг/дм3</td>\n",
       "      <td>200</td>\n",
       "      <td>не более 350</td>\n",
       "    </tr>\n",
       "    <tr>\n",
       "      <th>9</th>\n",
       "      <td>Сульфаты (SO4)</td>\n",
       "      <td>мг/дм3</td>\n",
       "      <td>189.5</td>\n",
       "      <td>не более 500</td>\n",
       "    </tr>\n",
       "    <tr>\n",
       "      <th>10</th>\n",
       "      <td>Железо (включая хлорное железо) по Fe</td>\n",
       "      <td>мг/дм3</td>\n",
       "      <td>0.019</td>\n",
       "      <td>не более 0,3</td>\n",
       "    </tr>\n",
       "    <tr>\n",
       "      <th>11</th>\n",
       "      <td>Нефть</td>\n",
       "      <td>мг/дм3</td>\n",
       "      <td>0.55</td>\n",
       "      <td>не более 0,3</td>\n",
       "    </tr>\n",
       "    <tr>\n",
       "      <th>12</th>\n",
       "      <td>Общая минерализация (сухой остаток)</td>\n",
       "      <td>мг/дм3</td>\n",
       "      <td>590</td>\n",
       "      <td>не более 1000</td>\n",
       "    </tr>\n",
       "    <tr>\n",
       "      <th>13</th>\n",
       "      <td>Окисляемость перманганатная</td>\n",
       "      <td>мг/дм3</td>\n",
       "      <td>2</td>\n",
       "      <td>не более 0,5</td>\n",
       "    </tr>\n",
       "  </tbody>\n",
       "</table>\n",
       "</div>"
      ],
      "text/plain": [
       "                               Показатель Единица измерений  \\\n",
       "0                                      pH        единицы pH   \n",
       "1                                   Запах             баллы   \n",
       "2                               Цветность           градусы   \n",
       "3                               Жёсткость       мг-эквл/дм3   \n",
       "4         Аммиак и аммоний-ион (по азоту)            мг/дм3   \n",
       "5                        Нитриты (по NO2)            мг/дм3   \n",
       "6                        Нитраты (по NO3)            мг/дм3   \n",
       "7                             Фосфаты (P)            мг/дм3   \n",
       "8                            Хлориды (Cl)            мг/дм3   \n",
       "9                          Сульфаты (SO4)            мг/дм3   \n",
       "10  Железо (включая хлорное железо) по Fe            мг/дм3   \n",
       "11                                  Нефть            мг/дм3   \n",
       "12    Общая минерализация (сухой остаток)            мг/дм3   \n",
       "13            Окисляемость перманганатная            мг/дм3   \n",
       "\n",
       "    Результат_анализа         Норматив  \n",
       "0                 8.4   в пределах 6-9  \n",
       "1                   1     не более 2-3  \n",
       "2                   0      не более 30  \n",
       "3   9.199999999999999  в пределах 7-10  \n",
       "4                0.42     не более 1,5  \n",
       "5               0.017     не более 3,3  \n",
       "6                  24      не более 45  \n",
       "7                0.36     не более 3,5  \n",
       "8                 200     не более 350  \n",
       "9               189.5     не более 500  \n",
       "10              0.019     не более 0,3  \n",
       "11               0.55     не более 0,3  \n",
       "12                590    не более 1000  \n",
       "13                  2     не более 0,5  "
      ]
     },
     "execution_count": 302,
     "metadata": {},
     "output_type": "execute_result"
    }
   ],
   "source": [
    "df"
   ]
  },
  {
   "cell_type": "markdown",
   "id": "5c707e8b",
   "metadata": {},
   "source": [
    "Создадим колонку \"выводы\":"
   ]
  },
  {
   "cell_type": "code",
   "execution_count": 303,
   "id": "915467ff",
   "metadata": {},
   "outputs": [],
   "source": [
    "df['Выводы']=['0','0','0','0','0','0','0','0','0','0','0','0','0','0']"
   ]
  },
  {
   "cell_type": "code",
   "execution_count": 304,
   "id": "7d5854d0",
   "metadata": {},
   "outputs": [],
   "source": [
    "for i in range(len(df.Результат_анализа)):\n",
    "    \n",
    "    if  6<float((df['Результат_анализа'][i]))<9 and df['Показатель'][i]=='pH':\n",
    "        df['Выводы'][i]='Норма'\n",
    "        \n",
    "    elif float(df['Результат_анализа'][i])<2.0 and df['Показатель'][i]=='Запах':\n",
    "        df['Выводы'][i]='Норма'\n",
    "   \n",
    "    elif float(df['Результат_анализа'][i])<30.0 and df['Показатель'][i]=='Цветность':\n",
    "        df['Выводы'][i]='Норма'\n",
    "        \n",
    "    elif 7<float(df['Результат_анализа'][i])<10 and df['Показатель'][i]=='Жёсткость':\n",
    "        df['Выводы'][i]='Норма'\n",
    "        \n",
    "    elif float(df['Результат_анализа'][i])<1.5 and df['Показатель'][i]=='Аммиак и аммоний-ион (по азоту)':\n",
    "        df['Выводы'][i]='Норма'\n",
    "    \n",
    "    elif float(df['Результат_анализа'][i])<3.3 and df['Показатель'][i]=='Нитриты (по NO2)':\n",
    "        df['Выводы'][i]='Норма'\n",
    "        \n",
    "    elif float(df['Результат_анализа'][i])<45 and df['Показатель'][i]=='Нитраты (по NO3)':\n",
    "        df['Выводы'][i]='Норма'\n",
    "    \n",
    "    elif float(df['Результат_анализа'][i])<3.5 and df['Показатель'][i]=='Фосфаты (P)':\n",
    "        df['Выводы'][i]='Норма'\n",
    "        \n",
    "    elif float(df['Результат_анализа'][i])<350 and df['Показатель'][i]=='Хлориды (Cl)':\n",
    "        df['Выводы'][i]='Норма'\n",
    "        \n",
    "    elif float(df['Результат_анализа'][i])<500 and df['Показатель'][i]=='Сульфаты (SO4)':\n",
    "        df['Выводы'][i]='Норма'\n",
    "        \n",
    "    elif float(df['Результат_анализа'][i])<0.3 and df['Показатель'][i]=='Железо (включая хлорное железо) по Fe':\n",
    "        df['Выводы'][i]='Норма'\n",
    "        \n",
    "    elif float(df['Результат_анализа'][i])<0.3 and df['Показатель'][i]=='Нефть':\n",
    "        df['Выводы'][i]='Норма'\n",
    "        \n",
    "    elif float(df['Результат_анализа'][i])<1000 and df['Показатель'][i]=='Общая минерализация (сухой остаток)':\n",
    "        df['Выводы'][i]='Норма'\n",
    "        \n",
    "    elif float(df['Результат_анализа'][i])<0.5 and df['Показатель'][i]=='Окисляемость перманганатная':\n",
    "        df['Выводы'][i]='Норма'\n",
    "    else:\n",
    "        df['Выводы'][i]='НЕ НОРМА!!'"
   ]
  },
  {
   "cell_type": "markdown",
   "id": "3b7cb451",
   "metadata": {},
   "source": [
    "Сделаем столбец \"Показатель\" - индексным:"
   ]
  },
  {
   "cell_type": "code",
   "execution_count": 306,
   "id": "305993da",
   "metadata": {},
   "outputs": [
    {
     "data": {
      "text/html": [
       "<div>\n",
       "<style scoped>\n",
       "    .dataframe tbody tr th:only-of-type {\n",
       "        vertical-align: middle;\n",
       "    }\n",
       "\n",
       "    .dataframe tbody tr th {\n",
       "        vertical-align: top;\n",
       "    }\n",
       "\n",
       "    .dataframe thead th {\n",
       "        text-align: right;\n",
       "    }\n",
       "</style>\n",
       "<table border=\"1\" class=\"dataframe\">\n",
       "  <thead>\n",
       "    <tr style=\"text-align: right;\">\n",
       "      <th></th>\n",
       "      <th>Единица измерений</th>\n",
       "      <th>Результат_анализа</th>\n",
       "      <th>Норматив</th>\n",
       "      <th>Выводы</th>\n",
       "    </tr>\n",
       "    <tr>\n",
       "      <th>Показатель</th>\n",
       "      <th></th>\n",
       "      <th></th>\n",
       "      <th></th>\n",
       "      <th></th>\n",
       "    </tr>\n",
       "  </thead>\n",
       "  <tbody>\n",
       "    <tr>\n",
       "      <th>pH</th>\n",
       "      <td>единицы pH</td>\n",
       "      <td>8.4</td>\n",
       "      <td>в пределах 6-9</td>\n",
       "      <td>Норма</td>\n",
       "    </tr>\n",
       "    <tr>\n",
       "      <th>Запах</th>\n",
       "      <td>баллы</td>\n",
       "      <td>1</td>\n",
       "      <td>не более 2-3</td>\n",
       "      <td>Норма</td>\n",
       "    </tr>\n",
       "    <tr>\n",
       "      <th>Цветность</th>\n",
       "      <td>градусы</td>\n",
       "      <td>0</td>\n",
       "      <td>не более 30</td>\n",
       "      <td>Норма</td>\n",
       "    </tr>\n",
       "    <tr>\n",
       "      <th>Жёсткость</th>\n",
       "      <td>мг-эквл/дм3</td>\n",
       "      <td>9.199999999999999</td>\n",
       "      <td>в пределах 7-10</td>\n",
       "      <td>Норма</td>\n",
       "    </tr>\n",
       "    <tr>\n",
       "      <th>Аммиак и аммоний-ион (по азоту)</th>\n",
       "      <td>мг/дм3</td>\n",
       "      <td>0.42</td>\n",
       "      <td>не более 1,5</td>\n",
       "      <td>Норма</td>\n",
       "    </tr>\n",
       "    <tr>\n",
       "      <th>Нитриты (по NO2)</th>\n",
       "      <td>мг/дм3</td>\n",
       "      <td>0.017</td>\n",
       "      <td>не более 3,3</td>\n",
       "      <td>Норма</td>\n",
       "    </tr>\n",
       "    <tr>\n",
       "      <th>Нитраты (по NO3)</th>\n",
       "      <td>мг/дм3</td>\n",
       "      <td>24</td>\n",
       "      <td>не более 45</td>\n",
       "      <td>Норма</td>\n",
       "    </tr>\n",
       "    <tr>\n",
       "      <th>Фосфаты (P)</th>\n",
       "      <td>мг/дм3</td>\n",
       "      <td>0.36</td>\n",
       "      <td>не более 3,5</td>\n",
       "      <td>Норма</td>\n",
       "    </tr>\n",
       "    <tr>\n",
       "      <th>Хлориды (Cl)</th>\n",
       "      <td>мг/дм3</td>\n",
       "      <td>200</td>\n",
       "      <td>не более 350</td>\n",
       "      <td>Норма</td>\n",
       "    </tr>\n",
       "    <tr>\n",
       "      <th>Сульфаты (SO4)</th>\n",
       "      <td>мг/дм3</td>\n",
       "      <td>189.5</td>\n",
       "      <td>не более 500</td>\n",
       "      <td>Норма</td>\n",
       "    </tr>\n",
       "    <tr>\n",
       "      <th>Железо (включая хлорное железо) по Fe</th>\n",
       "      <td>мг/дм3</td>\n",
       "      <td>0.019</td>\n",
       "      <td>не более 0,3</td>\n",
       "      <td>Норма</td>\n",
       "    </tr>\n",
       "    <tr>\n",
       "      <th>Нефть</th>\n",
       "      <td>мг/дм3</td>\n",
       "      <td>0.55</td>\n",
       "      <td>не более 0,3</td>\n",
       "      <td>НЕ НОРМА!!</td>\n",
       "    </tr>\n",
       "    <tr>\n",
       "      <th>Общая минерализация (сухой остаток)</th>\n",
       "      <td>мг/дм3</td>\n",
       "      <td>590</td>\n",
       "      <td>не более 1000</td>\n",
       "      <td>Норма</td>\n",
       "    </tr>\n",
       "    <tr>\n",
       "      <th>Окисляемость перманганатная</th>\n",
       "      <td>мг/дм3</td>\n",
       "      <td>2</td>\n",
       "      <td>не более 0,5</td>\n",
       "      <td>НЕ НОРМА!!</td>\n",
       "    </tr>\n",
       "  </tbody>\n",
       "</table>\n",
       "</div>"
      ],
      "text/plain": [
       "                                      Единица измерений  Результат_анализа  \\\n",
       "Показатель                                                                   \n",
       "pH                                           единицы pH                8.4   \n",
       "Запах                                             баллы                  1   \n",
       "Цветность                                       градусы                  0   \n",
       "Жёсткость                                   мг-эквл/дм3  9.199999999999999   \n",
       "Аммиак и аммоний-ион (по азоту)                  мг/дм3               0.42   \n",
       "Нитриты (по NO2)                                 мг/дм3              0.017   \n",
       "Нитраты (по NO3)                                 мг/дм3                 24   \n",
       "Фосфаты (P)                                      мг/дм3               0.36   \n",
       "Хлориды (Cl)                                     мг/дм3                200   \n",
       "Сульфаты (SO4)                                   мг/дм3              189.5   \n",
       "Железо (включая хлорное железо) по Fe            мг/дм3              0.019   \n",
       "Нефть                                            мг/дм3               0.55   \n",
       "Общая минерализация (сухой остаток)              мг/дм3                590   \n",
       "Окисляемость перманганатная                      мг/дм3                  2   \n",
       "\n",
       "                                              Норматив      Выводы  \n",
       "Показатель                                                          \n",
       "pH                                      в пределах 6-9       Норма  \n",
       "Запах                                     не более 2-3       Норма  \n",
       "Цветность                                  не более 30       Норма  \n",
       "Жёсткость                              в пределах 7-10       Норма  \n",
       "Аммиак и аммоний-ион (по азоту)           не более 1,5       Норма  \n",
       "Нитриты (по NO2)                          не более 3,3       Норма  \n",
       "Нитраты (по NO3)                           не более 45       Норма  \n",
       "Фосфаты (P)                               не более 3,5       Норма  \n",
       "Хлориды (Cl)                              не более 350       Норма  \n",
       "Сульфаты (SO4)                            не более 500       Норма  \n",
       "Железо (включая хлорное железо) по Fe     не более 0,3       Норма  \n",
       "Нефть                                     не более 0,3  НЕ НОРМА!!  \n",
       "Общая минерализация (сухой остаток)      не более 1000       Норма  \n",
       "Окисляемость перманганатная               не более 0,5  НЕ НОРМА!!  "
      ]
     },
     "execution_count": 306,
     "metadata": {},
     "output_type": "execute_result"
    }
   ],
   "source": [
    "df.set_index('Показатель')"
   ]
  },
  {
   "cell_type": "code",
   "execution_count": null,
   "id": "e3125cea",
   "metadata": {},
   "outputs": [],
   "source": []
  },
  {
   "cell_type": "markdown",
   "id": "7a29eb54",
   "metadata": {},
   "source": [
    "Теория вероятности. События.\n",
    "\n",
    "Требуется сгенерировать необходимые выборки и произвести по ним расчеты.\n",
    "\n",
    "Задача 2.\n",
    "\n",
    "В ящике 5 апельсинов и 4 яблока. Наудачу выбираются 3 фрукта. Какова вероятность, что все три фрукта – апельсины?\n",
    "\n",
    "В интернете полученный аналитически ответ 0.119. Подтверждается ли он эксперементально?"
   ]
  },
  {
   "cell_type": "code",
   "execution_count": 130,
   "id": "dfff0c71",
   "metadata": {},
   "outputs": [],
   "source": [
    "# заполняем ящик:\n",
    "X = [\"orange\"]*5 + ['apple']*4\n",
    "# задаем число экспериментов\n",
    "n = 100000\n",
    "# формируем выборку\n",
    "A = pd.DataFrame({\"A\":list(map(lambda a: random.choice([random.choice(X)]), range(n)))\n",
    "                 })\n"
   ]
  },
  {
   "cell_type": "code",
   "execution_count": 131,
   "id": "db9db3b0",
   "metadata": {},
   "outputs": [
    {
     "data": {
      "text/plain": [
       "11038"
      ]
     },
     "execution_count": 131,
     "metadata": {},
     "output_type": "execute_result"
    }
   ],
   "source": [
    "#Перебираем элементы выборки и считаем 3 подряд элемента orange:\n",
    "i,count=0,0\n",
    "while i<(len(A.A)-3):\n",
    "    if A.A[i]==A.A[i+1]==A.A[i+2]==\"orange\":\n",
    "        count+=1\n",
    "        i+=2\n",
    "        continue\n",
    "    i+=1    \n",
    "    \n",
    "count\n"
   ]
  },
  {
   "cell_type": "code",
   "execution_count": 132,
   "id": "86b2c9d1",
   "metadata": {},
   "outputs": [
    {
     "data": {
      "text/plain": [
       "0.11038"
      ]
     },
     "execution_count": 132,
     "metadata": {},
     "output_type": "execute_result"
    }
   ],
   "source": [
    "#Считаем статистику того, что все три фрукта - апельсины:\n",
    "A_orange = count/A.shape[0]\n",
    "A_orange"
   ]
  },
  {
   "cell_type": "code",
   "execution_count": null,
   "id": "7140767b",
   "metadata": {},
   "outputs": [],
   "source": []
  },
  {
   "cell_type": "markdown",
   "id": "3c8a22b0",
   "metadata": {},
   "source": [
    "Задача 3\n",
    "\n",
    "Мастер, имея 10 деталей, из которых 3 – нестандартных, проверяет детали одну за другой, пока ему не попадется стандартная. Какова вероятность, что он проверит ровно две детали?\n",
    "\n",
    "В интернете полученный аналитически ответ 7/30 или 0.23333. Подтверждается ли он эксперементально?"
   ]
  },
  {
   "cell_type": "code",
   "execution_count": 145,
   "id": "4305bca9",
   "metadata": {},
   "outputs": [
    {
     "data": {
      "text/html": [
       "<div>\n",
       "<style scoped>\n",
       "    .dataframe tbody tr th:only-of-type {\n",
       "        vertical-align: middle;\n",
       "    }\n",
       "\n",
       "    .dataframe tbody tr th {\n",
       "        vertical-align: top;\n",
       "    }\n",
       "\n",
       "    .dataframe thead th {\n",
       "        text-align: right;\n",
       "    }\n",
       "</style>\n",
       "<table border=\"1\" class=\"dataframe\">\n",
       "  <thead>\n",
       "    <tr style=\"text-align: right;\">\n",
       "      <th></th>\n",
       "      <th>B</th>\n",
       "    </tr>\n",
       "  </thead>\n",
       "  <tbody>\n",
       "    <tr>\n",
       "      <th>0</th>\n",
       "      <td>not standard</td>\n",
       "    </tr>\n",
       "    <tr>\n",
       "      <th>1</th>\n",
       "      <td>standard</td>\n",
       "    </tr>\n",
       "    <tr>\n",
       "      <th>2</th>\n",
       "      <td>standard</td>\n",
       "    </tr>\n",
       "    <tr>\n",
       "      <th>3</th>\n",
       "      <td>not standard</td>\n",
       "    </tr>\n",
       "    <tr>\n",
       "      <th>4</th>\n",
       "      <td>standard</td>\n",
       "    </tr>\n",
       "    <tr>\n",
       "      <th>...</th>\n",
       "      <td>...</td>\n",
       "    </tr>\n",
       "    <tr>\n",
       "      <th>99995</th>\n",
       "      <td>standard</td>\n",
       "    </tr>\n",
       "    <tr>\n",
       "      <th>99996</th>\n",
       "      <td>not standard</td>\n",
       "    </tr>\n",
       "    <tr>\n",
       "      <th>99997</th>\n",
       "      <td>standard</td>\n",
       "    </tr>\n",
       "    <tr>\n",
       "      <th>99998</th>\n",
       "      <td>not standard</td>\n",
       "    </tr>\n",
       "    <tr>\n",
       "      <th>99999</th>\n",
       "      <td>standard</td>\n",
       "    </tr>\n",
       "  </tbody>\n",
       "</table>\n",
       "<p>100000 rows × 1 columns</p>\n",
       "</div>"
      ],
      "text/plain": [
       "                  B\n",
       "0      not standard\n",
       "1          standard\n",
       "2          standard\n",
       "3      not standard\n",
       "4          standard\n",
       "...             ...\n",
       "99995      standard\n",
       "99996  not standard\n",
       "99997      standard\n",
       "99998  not standard\n",
       "99999      standard\n",
       "\n",
       "[100000 rows x 1 columns]"
      ]
     },
     "execution_count": 145,
     "metadata": {},
     "output_type": "execute_result"
    }
   ],
   "source": [
    "#Детали:\n",
    "Y = [\"standard\"]*7 + ['not standard']*3\n",
    "# задаем число экспериментов\n",
    "n = 100000\n",
    "# формируем выборку\n",
    "B = pd.DataFrame({\"B\":list(map(lambda a: random.choice([random.choice(Y)]), range(n)))\n",
    "                 })\n",
    "B"
   ]
  },
  {
   "cell_type": "code",
   "execution_count": 146,
   "id": "1a244b7d",
   "metadata": {},
   "outputs": [
    {
     "data": {
      "text/plain": [
       "21002"
      ]
     },
     "execution_count": 146,
     "metadata": {},
     "output_type": "execute_result"
    }
   ],
   "source": [
    "#Перебираем элементы выборки и считаем кол-во подряд идущих \"нестандартная\"+\"стандартная\":\n",
    "i,count1=0,0\n",
    "while i<(len(B.B)-1):\n",
    "    if B.B[i]=='not standard' and B.B[i+1]=='standard':\n",
    "        count1+=1\n",
    "        i+=2\n",
    "        continue\n",
    "    i+=1    \n",
    "    \n",
    "count1"
   ]
  },
  {
   "cell_type": "code",
   "execution_count": 144,
   "id": "6f496413",
   "metadata": {},
   "outputs": [
    {
     "data": {
      "text/plain": [
       "0.21122"
      ]
     },
     "execution_count": 144,
     "metadata": {},
     "output_type": "execute_result"
    }
   ],
   "source": [
    "#Считаем статистику того, что мастер проверит ровно две детали:\n",
    "B_el = count1/B.shape[0]\n",
    "B_el"
   ]
  }
 ],
 "metadata": {
  "kernelspec": {
   "display_name": "Python 3 (ipykernel)",
   "language": "python",
   "name": "python3"
  },
  "language_info": {
   "codemirror_mode": {
    "name": "ipython",
    "version": 3
   },
   "file_extension": ".py",
   "mimetype": "text/x-python",
   "name": "python",
   "nbconvert_exporter": "python",
   "pygments_lexer": "ipython3",
   "version": "3.11.5"
  },
  "toc": {
   "base_numbering": 1,
   "nav_menu": {},
   "number_sections": true,
   "sideBar": true,
   "skip_h1_title": false,
   "title_cell": "Table of Contents",
   "title_sidebar": "Contents",
   "toc_cell": true,
   "toc_position": {},
   "toc_section_display": true,
   "toc_window_display": false
  }
 },
 "nbformat": 4,
 "nbformat_minor": 5
}
